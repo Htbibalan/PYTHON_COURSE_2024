{
 "cells": [
  {
   "cell_type": "markdown",
   "id": "367192cb-a443-4fef-8f13-9a50b0c40b0a",
   "metadata": {},
   "source": [
    "# Variables\n",
    "## stinrg"
   ]
  },
  {
   "cell_type": "code",
   "execution_count": 43,
   "id": "a9692256-0e70-4851-b3f9-8c42f0732d62",
   "metadata": {
    "collapsed": true,
    "jupyter": {
     "outputs_hidden": true
    },
    "tags": []
   },
   "outputs": [
    {
     "name": "stdout",
     "output_type": "stream",
     "text": [
      "hamid bibalan\n",
      "<class 'str'>\n"
     ]
    },
    {
     "data": {
      "text/plain": [
       "['__add__',\n",
       " '__class__',\n",
       " '__contains__',\n",
       " '__delattr__',\n",
       " '__dir__',\n",
       " '__doc__',\n",
       " '__eq__',\n",
       " '__format__',\n",
       " '__ge__',\n",
       " '__getattribute__',\n",
       " '__getitem__',\n",
       " '__getnewargs__',\n",
       " '__gt__',\n",
       " '__hash__',\n",
       " '__init__',\n",
       " '__init_subclass__',\n",
       " '__iter__',\n",
       " '__le__',\n",
       " '__len__',\n",
       " '__lt__',\n",
       " '__mod__',\n",
       " '__mul__',\n",
       " '__ne__',\n",
       " '__new__',\n",
       " '__reduce__',\n",
       " '__reduce_ex__',\n",
       " '__repr__',\n",
       " '__rmod__',\n",
       " '__rmul__',\n",
       " '__setattr__',\n",
       " '__sizeof__',\n",
       " '__str__',\n",
       " '__subclasshook__',\n",
       " 'capitalize',\n",
       " 'casefold',\n",
       " 'center',\n",
       " 'count',\n",
       " 'encode',\n",
       " 'endswith',\n",
       " 'expandtabs',\n",
       " 'find',\n",
       " 'format',\n",
       " 'format_map',\n",
       " 'index',\n",
       " 'isalnum',\n",
       " 'isalpha',\n",
       " 'isascii',\n",
       " 'isdecimal',\n",
       " 'isdigit',\n",
       " 'isidentifier',\n",
       " 'islower',\n",
       " 'isnumeric',\n",
       " 'isprintable',\n",
       " 'isspace',\n",
       " 'istitle',\n",
       " 'isupper',\n",
       " 'join',\n",
       " 'ljust',\n",
       " 'lower',\n",
       " 'lstrip',\n",
       " 'maketrans',\n",
       " 'partition',\n",
       " 'removeprefix',\n",
       " 'removesuffix',\n",
       " 'replace',\n",
       " 'rfind',\n",
       " 'rindex',\n",
       " 'rjust',\n",
       " 'rpartition',\n",
       " 'rsplit',\n",
       " 'rstrip',\n",
       " 'split',\n",
       " 'splitlines',\n",
       " 'startswith',\n",
       " 'strip',\n",
       " 'swapcase',\n",
       " 'title',\n",
       " 'translate',\n",
       " 'upper',\n",
       " 'zfill']"
      ]
     },
     "execution_count": 43,
     "metadata": {},
     "output_type": "execute_result"
    }
   ],
   "source": [
    "# string\n",
    "my_name = \"hamid\"\n",
    "# 1st_name = \"hamid\" #variables can not start with a number! so this line won't work or throws a syntax error\n",
    "firstName= \"hamid\" #this code works, but it not nice! in python we tend to use snake_case so technically but it is not \"pythonic\". Look for Camelcase\n",
    "#snake_case and pascalcase in coding\n",
    "n1= \"hamid\" # works but not pythonic\n",
    "\n",
    "second_name = \"bibalan\"\n",
    "full_name = my_name + \" \" + second_name # you can use \"+\" to concatanate strings\n",
    "print(full_name)\n",
    "\n",
    "second_name.upper() #  we can use some methods which is available on the jupyter notebook cheatsheet\n",
    "\n",
    "print(type(second_name))\n",
    "\n",
    "dir(second_name) #  dir here shows all the processes that can be carried out on that vairable \n",
    "\n",
    "\n",
    "\n",
    "# x = 2\n",
    "# b= \"four\"\n",
    "# print( x + b) # we can not concatanate two different types \n"
   ]
  },
  {
   "cell_type": "markdown",
   "id": "9836638d-f440-472c-99e8-bccba9213e6f",
   "metadata": {},
   "source": [
    "## boolean "
   ]
  },
  {
   "cell_type": "code",
   "execution_count": 70,
   "id": "4a36bc6a-c08e-4adf-aced-949af6f369c7",
   "metadata": {},
   "outputs": [
    {
     "data": {
      "text/plain": [
       "True"
      ]
     },
     "execution_count": 70,
     "metadata": {},
     "output_type": "execute_result"
    }
   ],
   "source": [
    "is_good = True\n",
    "is_good"
   ]
  },
  {
   "cell_type": "markdown",
   "id": "6ff4f2c6-fd18-432f-87e2-d093a7bc94c3",
   "metadata": {},
   "source": [
    "## Lists and index"
   ]
  },
  {
   "cell_type": "code",
   "execution_count": 71,
   "id": "6a2da0c3-8972-4281-828c-31226b027a21",
   "metadata": {},
   "outputs": [
    {
     "name": "stdout",
     "output_type": "stream",
     "text": [
      "Jayla\n",
      "['Jayla', 'Loudon']\n"
     ]
    },
    {
     "data": {
      "text/plain": [
       "['Jaime', 2, 'Jayla', 'Loudon', 'Booker', 3]"
      ]
     },
     "execution_count": 71,
     "metadata": {},
     "output_type": "execute_result"
    }
   ],
   "source": [
    "names = [\"Jaime\", \"Jayla\", \"Loudon\", \"Booker\"]\n",
    "print (names[1])\n",
    "print (names[1:3])\n",
    "\n",
    "names.append(3)\n",
    "names.insert(1, 2)\n",
    "names"
   ]
  },
  {
   "cell_type": "markdown",
   "id": "ca6d5104-9b44-466a-9752-e1f9314ac10a",
   "metadata": {},
   "source": [
    "# For-loops"
   ]
  },
  {
   "cell_type": "code",
   "execution_count": 9,
   "id": "0f8ba5e8-c330-455c-870b-4c4d418c4a9d",
   "metadata": {},
   "outputs": [
    {
     "name": "stdout",
     "output_type": "stream",
     "text": [
      "[528, 528, 156, 144]\n"
     ]
    }
   ],
   "source": [
    "ages = [44,44,13,12]\n",
    "ages_in_month = []\n",
    "\n",
    "for item in ages:\n",
    "    ages_in_month.append(item * 12)\n",
    "print(ages_in_month)\n",
    "    \n"
   ]
  },
  {
   "cell_type": "code",
   "execution_count": null,
   "id": "1bdbafe8-af44-4f6c-84b6-199184aef852",
   "metadata": {},
   "outputs": [],
   "source": []
  },
  {
   "cell_type": "code",
   "execution_count": null,
   "id": "34640559-664e-48e5-adde-e59dd99a8a0e",
   "metadata": {},
   "outputs": [],
   "source": []
  }
 ],
 "metadata": {
  "kernelspec": {
   "display_name": "Python 3 (ipykernel)",
   "language": "python",
   "name": "python3"
  },
  "language_info": {
   "codemirror_mode": {
    "name": "ipython",
    "version": 3
   },
   "file_extension": ".py",
   "mimetype": "text/x-python",
   "name": "python",
   "nbconvert_exporter": "python",
   "pygments_lexer": "ipython3",
   "version": "3.9.18"
  }
 },
 "nbformat": 4,
 "nbformat_minor": 5
}
