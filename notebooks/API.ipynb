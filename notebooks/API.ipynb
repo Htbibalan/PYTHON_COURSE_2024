{
 "cells": [
  {
   "cell_type": "code",
   "execution_count": 2,
   "id": "ad01d5c6-f2ab-459b-b5c1-98096f806cd8",
   "metadata": {},
   "outputs": [],
   "source": [
    "import requests\n",
    "\n"
   ]
  },
  {
   "cell_type": "code",
   "execution_count": 3,
   "id": "d60ae48d-9b3f-40ae-892f-b2c99175e3a1",
   "metadata": {},
   "outputs": [],
   "source": [
    "url = \"https://google-translate1.p.rapidapi.com/language/translate/v2/detect\""
   ]
  },
  {
   "cell_type": "code",
   "execution_count": 4,
   "id": "7ee713dd-0872-406d-8480-98962a4ec945",
   "metadata": {},
   "outputs": [],
   "source": [
    "payload = { \"q\": \"English is hard, but detectably so\" }"
   ]
  },
  {
   "cell_type": "code",
   "execution_count": 5,
   "id": "ac1e782b-4845-4cf2-bd25-ab53716a7971",
   "metadata": {},
   "outputs": [],
   "source": [
    "headers = {\n",
    "\t\"content-type\": \"application/x-www-form-urlencoded\",\n",
    "\t\"Accept-Encoding\": \"application/gzip\",\n",
    "\t\"X-RapidAPI-Key\": \"ff7cfaef17mshf37ea6f610a948bp13a299jsn0046a274be20\",\n",
    "\t\"X-RapidAPI-Host\": \"google-translate1.p.rapidapi.com\"\n",
    "}\n"
   ]
  },
  {
   "cell_type": "code",
   "execution_count": 6,
   "id": "ed3df897-eeda-44f6-8845-dc8502157588",
   "metadata": {},
   "outputs": [],
   "source": [
    "response = requests.post(url, data=payload, headers=headers)"
   ]
  },
  {
   "cell_type": "code",
   "execution_count": 7,
   "id": "048098ae-bc65-4964-bb0d-c64cb966c0f1",
   "metadata": {},
   "outputs": [
    {
     "name": "stdout",
     "output_type": "stream",
     "text": [
      "{'data': {'detections': [[{'language': 'en', 'confidence': 1, 'isReliable': False}]]}}\n"
     ]
    }
   ],
   "source": [
    "import requests\n",
    "\n",
    "url = \"https://google-translate1.p.rapidapi.com/language/translate/v2/detect\"\n",
    "\n",
    "payload = { \"q\": \"English is hard, but detectably so\" }\n",
    "headers = {\n",
    "\t\"content-type\": \"application/x-www-form-urlencoded\",\n",
    "\t\"Accept-Encoding\": \"application/gzip\",\n",
    "\t\"X-RapidAPI-Key\": \"ff7cfaef17mshf37ea6f610a948bp13a299jsn0046a274be20\",\n",
    "\t\"X-RapidAPI-Host\": \"google-translate1.p.rapidapi.com\"\n",
    "}\n",
    "\n",
    "response = requests.post(url, data=payload, headers=headers)\n",
    "\n",
    "print(response.json())"
   ]
  },
  {
   "cell_type": "code",
   "execution_count": 10,
   "id": "24781f83-00c8-461a-b0b4-f8dd29532090",
   "metadata": {},
   "outputs": [
    {
     "name": "stdout",
     "output_type": "stream",
     "text": [
      "{'data': {'translations': [{'translatedText': 'Hallo Welt!'}]}}\n"
     ]
    }
   ],
   "source": [
    "import requests\n",
    "\n",
    "url = \"https://google-translate1.p.rapidapi.com/language/translate/v2\"\n",
    "\n",
    "payload = {\n",
    "\t\"q\": \"Hello, world!\",\n",
    "\t\"target\": \"de\",\n",
    "\t\"source\": \"en\"\n",
    "}\n",
    "headers = {\n",
    "\t\"content-type\": \"application/x-www-form-urlencoded\",\n",
    "\t\"Accept-Encoding\": \"application/gzip\",\n",
    "\t\"X-RapidAPI-Key\": \"ff7cfaef17mshf37ea6f610a948bp13a299jsn0046a274be20\",\n",
    "\t\"X-RapidAPI-Host\": \"google-translate1.p.rapidapi.com\"\n",
    "}\n",
    "\n",
    "response = requests.post(url, data=payload, headers=headers)\n",
    "\n",
    "print(response.json())"
   ]
  },
  {
   "cell_type": "code",
   "execution_count": 12,
   "id": "9c825ca7-f542-4507-b631-e773773ae824",
   "metadata": {},
   "outputs": [
    {
     "name": "stdout",
     "output_type": "stream",
     "text": [
      "{'location': {'city': 'Tehran', 'woeid': 2251945, 'country': 'Iran', 'lat': 35.67194, 'long': 51.424438, 'timezone_id': 'Asia/Tehran'}, 'current_observation': {'pubDate': 1711541749, 'wind': {'chill': 58, 'direction': 'WSW', 'speed': 21}, 'atmosphere': {'humidity': 27, 'visibility': 10, 'pressure': 1014.2}, 'astronomy': {'sunrise': '5:56 AM', 'sunset': '6:23 PM'}, 'condition': {'temperature': 63, 'text': 'Mostly Cloudy', 'code': 28}}, 'forecasts': [{'day': 'Wed', 'date': 1711555200, 'high': 64, 'low': 49, 'text': 'Sunny', 'code': 32}, {'day': 'Thu', 'date': 1711641600, 'high': 66, 'low': 43, 'text': 'Partly Cloudy', 'code': 30}, {'day': 'Fri', 'date': 1711728000, 'high': 63, 'low': 48, 'text': 'Sunny', 'code': 32}, {'day': 'Sat', 'date': 1711814400, 'high': 65, 'low': 52, 'text': 'Partly Cloudy', 'code': 30}, {'day': 'Sun', 'date': 1711900800, 'high': 68, 'low': 48, 'text': 'Partly Cloudy', 'code': 30}, {'day': 'Mon', 'date': 1711987200, 'high': 67, 'low': 48, 'text': 'Sunny', 'code': 32}, {'day': 'Tue', 'date': 1712073600, 'high': 73, 'low': 53, 'text': 'Sunny', 'code': 32}, {'day': 'Wed', 'date': 1712160000, 'high': 77, 'low': 57, 'text': 'Sunny', 'code': 32}, {'day': 'Thu', 'date': 1712246400, 'high': 79, 'low': 60, 'text': 'Sunny', 'code': 32}, {'day': 'Fri', 'date': 1712332800, 'high': 69, 'low': 51, 'text': 'Sunny', 'code': 32}, {'day': 'Sat', 'date': 1712419200, 'high': 70, 'low': 52, 'text': 'Sunny', 'code': 32}]}\n"
     ]
    }
   ],
   "source": [
    "\n",
    "\n",
    "url = \"https://yahoo-weather5.p.rapidapi.com/weather\"\n",
    "\n",
    "querystring = {\"location\":\"Tehran\",\"format\":\"json\",\"u\":\"f\"}\n",
    "\n",
    "headers = {\n",
    "\t\"X-RapidAPI-Key\": \"ff7cfaef17mshf37ea6f610a948bp13a299jsn0046a274be20\",\n",
    "\t\"X-RapidAPI-Host\": \"yahoo-weather5.p.rapidapi.com\"\n",
    "}\n",
    "\n",
    "response = requests.get(url, headers=headers, params=querystring)\n",
    "\n",
    "print(response.json())"
   ]
  },
  {
   "cell_type": "code",
   "execution_count": 13,
   "id": "ee38b317-52b1-4430-806f-e9f21869452c",
   "metadata": {},
   "outputs": [],
   "source": [
    "d = (response.json())"
   ]
  },
  {
   "cell_type": "code",
   "execution_count": 14,
   "id": "f5332a53-9b28-4fe5-933e-cf8b61782867",
   "metadata": {},
   "outputs": [
    {
     "data": {
      "text/plain": [
       "dict"
      ]
     },
     "execution_count": 14,
     "metadata": {},
     "output_type": "execute_result"
    }
   ],
   "source": [
    "type(d)"
   ]
  },
  {
   "cell_type": "code",
   "execution_count": 16,
   "id": "8c4520da-da79-44cf-9deb-e752a98227c0",
   "metadata": {},
   "outputs": [
    {
     "data": {
      "text/plain": [
       "dict_keys(['location', 'current_observation', 'forecasts'])"
      ]
     },
     "execution_count": 16,
     "metadata": {},
     "output_type": "execute_result"
    }
   ],
   "source": [
    "d.keys()"
   ]
  },
  {
   "cell_type": "code",
   "execution_count": 18,
   "id": "4b787c99-1bb9-4a0e-b4cf-dd91de48b384",
   "metadata": {},
   "outputs": [
    {
     "data": {
      "text/plain": [
       "dict_keys(['city', 'woeid', 'country', 'lat', 'long', 'timezone_id'])"
      ]
     },
     "execution_count": 18,
     "metadata": {},
     "output_type": "execute_result"
    }
   ],
   "source": [
    "d[\"location\"].keys()"
   ]
  },
  {
   "cell_type": "code",
   "execution_count": 24,
   "id": "25310a5d-c8db-4946-b5ed-123d5ee93d06",
   "metadata": {},
   "outputs": [
    {
     "data": {
      "text/plain": [
       "[{'day': 'Wed',\n",
       "  'date': 1711555200,\n",
       "  'high': 64,\n",
       "  'low': 49,\n",
       "  'text': 'Sunny',\n",
       "  'code': 32},\n",
       " {'day': 'Thu',\n",
       "  'date': 1711641600,\n",
       "  'high': 66,\n",
       "  'low': 43,\n",
       "  'text': 'Partly Cloudy',\n",
       "  'code': 30},\n",
       " {'day': 'Fri',\n",
       "  'date': 1711728000,\n",
       "  'high': 63,\n",
       "  'low': 48,\n",
       "  'text': 'Sunny',\n",
       "  'code': 32},\n",
       " {'day': 'Sat',\n",
       "  'date': 1711814400,\n",
       "  'high': 65,\n",
       "  'low': 52,\n",
       "  'text': 'Partly Cloudy',\n",
       "  'code': 30},\n",
       " {'day': 'Sun',\n",
       "  'date': 1711900800,\n",
       "  'high': 68,\n",
       "  'low': 48,\n",
       "  'text': 'Partly Cloudy',\n",
       "  'code': 30},\n",
       " {'day': 'Mon',\n",
       "  'date': 1711987200,\n",
       "  'high': 67,\n",
       "  'low': 48,\n",
       "  'text': 'Sunny',\n",
       "  'code': 32},\n",
       " {'day': 'Tue',\n",
       "  'date': 1712073600,\n",
       "  'high': 73,\n",
       "  'low': 53,\n",
       "  'text': 'Sunny',\n",
       "  'code': 32},\n",
       " {'day': 'Wed',\n",
       "  'date': 1712160000,\n",
       "  'high': 77,\n",
       "  'low': 57,\n",
       "  'text': 'Sunny',\n",
       "  'code': 32},\n",
       " {'day': 'Thu',\n",
       "  'date': 1712246400,\n",
       "  'high': 79,\n",
       "  'low': 60,\n",
       "  'text': 'Sunny',\n",
       "  'code': 32},\n",
       " {'day': 'Fri',\n",
       "  'date': 1712332800,\n",
       "  'high': 69,\n",
       "  'low': 51,\n",
       "  'text': 'Sunny',\n",
       "  'code': 32},\n",
       " {'day': 'Sat',\n",
       "  'date': 1712419200,\n",
       "  'high': 70,\n",
       "  'low': 52,\n",
       "  'text': 'Sunny',\n",
       "  'code': 32}]"
      ]
     },
     "execution_count": 24,
     "metadata": {},
     "output_type": "execute_result"
    }
   ],
   "source": [
    "d[\"forecasts\"]"
   ]
  },
  {
   "cell_type": "code",
   "execution_count": null,
   "id": "99c6575f-5fe8-4635-a0a5-51227f4b7f20",
   "metadata": {},
   "outputs": [],
   "source": []
  }
 ],
 "metadata": {
  "kernelspec": {
   "display_name": "Python 3 (ipykernel)",
   "language": "python",
   "name": "python3"
  },
  "language_info": {
   "codemirror_mode": {
    "name": "ipython",
    "version": 3
   },
   "file_extension": ".py",
   "mimetype": "text/x-python",
   "name": "python",
   "nbconvert_exporter": "python",
   "pygments_lexer": "ipython3",
   "version": "3.12.2"
  }
 },
 "nbformat": 4,
 "nbformat_minor": 5
}
