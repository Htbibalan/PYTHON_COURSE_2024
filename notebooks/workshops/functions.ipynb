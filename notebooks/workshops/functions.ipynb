{
 "cells": [
  {
   "cell_type": "markdown",
   "id": "f52f0ceb-ef3d-4a75-8a1d-4dedde510975",
   "metadata": {},
   "source": [
    "# <font color = \"yellow\"> Functions in Python </font>\n",
    "### Parameters in python are variables — placeholders for the actual values the function needs. When the function is called, these values are passed in as arguments"
   ]
  },
  {
   "cell_type": "code",
   "execution_count": 1,
   "id": "cf64f38d-c5ce-4e7f-8ae7-4dd1f8abacbe",
   "metadata": {},
   "outputs": [
    {
     "name": "stdin",
     "output_type": "stream",
     "text": [
      "choose a drink: coffee, tea, hot-chocolate tea\n"
     ]
    }
   ],
   "source": [
    "def make_drink(choice = input(\"choose a drink: coffee, tea, hot-chocolate\")):\n",
    "    if choice == \" coffee\":\n",
    "        print (\"get a cup, boil water\")    \n",
    "    if choice == \"tea\":\n",
    "        print(\"get a cup, boil water, brew tea\")\n",
    "    if choie == \"hot-chocolate\":\n",
    "        print(\"out of order\")\n",
    "    return choice\n",
    "        \n",
    "    "
   ]
  },
  {
   "cell_type": "code",
   "execution_count": 2,
   "id": "313f27b7-2fd0-4e40-b215-fff8af912dde",
   "metadata": {},
   "outputs": [],
   "source": [
    "def say_hello(name):\n",
    "    \"\"\"\n",
    "    it is just a function we are making in the course!\n",
    "    \"\"\"\n",
    "    print(\"Hello!\" , name)"
   ]
  },
  {
   "cell_type": "code",
   "execution_count": 3,
   "id": "cf2da0e5-a407-4aa8-8775-77632a3bcffc",
   "metadata": {},
   "outputs": [],
   "source": [
    "def say_hello(name):\n",
    "    \n",
    "    \"\"\"\n",
    "    it is just a function we are making in the course!\n",
    "    \"\"\"\n",
    "    greeting = \" Hello \" + name\n",
    "    return greeting\n",
    "  "
   ]
  },
  {
   "cell_type": "code",
   "execution_count": 4,
   "id": "8f932fc9-542e-4f53-ad82-464369669edb",
   "metadata": {},
   "outputs": [
    {
     "name": "stdin",
     "output_type": "stream",
     "text": [
      "Enter your name: Jaime\n"
     ]
    },
    {
     "name": "stdout",
     "output_type": "stream",
     "text": [
      "Hello Jaime\n"
     ]
    }
   ],
   "source": [
    "def say_hello(name=input(\"Enter your name:\")):\n",
    "    \"\"\"\n",
    "    This is just a function I defined in our python course at UiT 2024.\n",
    "    The function interacts with the user by asking for an \"input\". Then print a greeting message.\n",
    "    \n",
    "    ----\n",
    "    parameters:\n",
    "            str, int, float : name is accepted as an input so does not matter integer or string\n",
    "    \n",
    "    ----\n",
    "    returns:\n",
    "        str: a greeting message based on the input value\n",
    "    \"\"\"\n",
    "    message = \"Hello \" + name\n",
    "    return message\n",
    "\n",
    "\n",
    "result = say_hello()\n",
    "print(result)\n"
   ]
  },
  {
   "cell_type": "code",
   "execution_count": null,
   "id": "226d3fa3-aed5-4d30-993f-2ff960aea823",
   "metadata": {},
   "outputs": [],
   "source": []
  }
 ],
 "metadata": {
  "kernelspec": {
   "display_name": "Python 3 (ipykernel)",
   "language": "python",
   "name": "python3"
  },
  "language_info": {
   "codemirror_mode": {
    "name": "ipython",
    "version": 3
   },
   "file_extension": ".py",
   "mimetype": "text/x-python",
   "name": "python",
   "nbconvert_exporter": "python",
   "pygments_lexer": "ipython3",
   "version": "3.12.2"
  }
 },
 "nbformat": 4,
 "nbformat_minor": 5
}
