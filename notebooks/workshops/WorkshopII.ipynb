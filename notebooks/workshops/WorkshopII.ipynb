{
 "cells": [
  {
   "cell_type": "markdown",
   "id": "367192cb-a443-4fef-8f13-9a50b0c40b0a",
   "metadata": {},
   "source": [
    "# Variables\n",
    "## stinrg"
   ]
  },
  {
   "cell_type": "code",
   "execution_count": 43,
   "id": "a9692256-0e70-4851-b3f9-8c42f0732d62",
   "metadata": {
    "collapsed": true,
    "jupyter": {
     "outputs_hidden": true
    },
    "tags": []
   },
   "outputs": [
    {
     "name": "stdout",
     "output_type": "stream",
     "text": [
      "hamid bibalan\n",
      "<class 'str'>\n"
     ]
    },
    {
     "data": {
      "text/plain": [
       "['__add__',\n",
       " '__class__',\n",
       " '__contains__',\n",
       " '__delattr__',\n",
       " '__dir__',\n",
       " '__doc__',\n",
       " '__eq__',\n",
       " '__format__',\n",
       " '__ge__',\n",
       " '__getattribute__',\n",
       " '__getitem__',\n",
       " '__getnewargs__',\n",
       " '__gt__',\n",
       " '__hash__',\n",
       " '__init__',\n",
       " '__init_subclass__',\n",
       " '__iter__',\n",
       " '__le__',\n",
       " '__len__',\n",
       " '__lt__',\n",
       " '__mod__',\n",
       " '__mul__',\n",
       " '__ne__',\n",
       " '__new__',\n",
       " '__reduce__',\n",
       " '__reduce_ex__',\n",
       " '__repr__',\n",
       " '__rmod__',\n",
       " '__rmul__',\n",
       " '__setattr__',\n",
       " '__sizeof__',\n",
       " '__str__',\n",
       " '__subclasshook__',\n",
       " 'capitalize',\n",
       " 'casefold',\n",
       " 'center',\n",
       " 'count',\n",
       " 'encode',\n",
       " 'endswith',\n",
       " 'expandtabs',\n",
       " 'find',\n",
       " 'format',\n",
       " 'format_map',\n",
       " 'index',\n",
       " 'isalnum',\n",
       " 'isalpha',\n",
       " 'isascii',\n",
       " 'isdecimal',\n",
       " 'isdigit',\n",
       " 'isidentifier',\n",
       " 'islower',\n",
       " 'isnumeric',\n",
       " 'isprintable',\n",
       " 'isspace',\n",
       " 'istitle',\n",
       " 'isupper',\n",
       " 'join',\n",
       " 'ljust',\n",
       " 'lower',\n",
       " 'lstrip',\n",
       " 'maketrans',\n",
       " 'partition',\n",
       " 'removeprefix',\n",
       " 'removesuffix',\n",
       " 'replace',\n",
       " 'rfind',\n",
       " 'rindex',\n",
       " 'rjust',\n",
       " 'rpartition',\n",
       " 'rsplit',\n",
       " 'rstrip',\n",
       " 'split',\n",
       " 'splitlines',\n",
       " 'startswith',\n",
       " 'strip',\n",
       " 'swapcase',\n",
       " 'title',\n",
       " 'translate',\n",
       " 'upper',\n",
       " 'zfill']"
      ]
     },
     "execution_count": 43,
     "metadata": {},
     "output_type": "execute_result"
    }
   ],
   "source": [
    "# string\n",
    "my_name = \"hamid\"\n",
    "# 1st_name = \"hamid\" #variables can not start with a number! so this line won't work or throws a syntax error\n",
    "firstName= \"hamid\" #this code works, but it not nice! in python we tend to use snake_case so technically but it is not \"pythonic\". Look for Camelcase\n",
    "#snake_case and pascalcase in coding\n",
    "n1= \"hamid\" # works but not pythonic\n",
    "\n",
    "second_name = \"bibalan\"\n",
    "full_name = my_name + \" \" + second_name # you can use \"+\" to concatanate strings\n",
    "print(full_name)\n",
    "\n",
    "second_name.upper() #  we can use some methods which is available on the jupyter notebook cheatsheet\n",
    "\n",
    "print(type(second_name))\n",
    "\n",
    "dir(second_name) #  dir here shows all the processes that can be carried out on that vairable \n",
    "\n",
    "\n",
    "\n",
    "# x = 2\n",
    "# b= \"four\"\n",
    "# print( x + b) # we can not concatanate two different types \n"
   ]
  },
  {
   "cell_type": "markdown",
   "id": "9836638d-f440-472c-99e8-bccba9213e6f",
   "metadata": {},
   "source": [
    "## boolean "
   ]
  },
  {
   "cell_type": "code",
   "execution_count": 70,
   "id": "4a36bc6a-c08e-4adf-aced-949af6f369c7",
   "metadata": {},
   "outputs": [
    {
     "data": {
      "text/plain": [
       "True"
      ]
     },
     "execution_count": 70,
     "metadata": {},
     "output_type": "execute_result"
    }
   ],
   "source": [
    "is_good = True\n",
    "is_good"
   ]
  },
  {
   "cell_type": "markdown",
   "id": "6ff4f2c6-fd18-432f-87e2-d093a7bc94c3",
   "metadata": {},
   "source": [
    "## Lists and index"
   ]
  },
  {
   "cell_type": "code",
   "execution_count": 71,
   "id": "6a2da0c3-8972-4281-828c-31226b027a21",
   "metadata": {},
   "outputs": [
    {
     "name": "stdout",
     "output_type": "stream",
     "text": [
      "Jayla\n",
      "['Jayla', 'Loudon']\n"
     ]
    },
    {
     "data": {
      "text/plain": [
       "['Jaime', 2, 'Jayla', 'Loudon', 'Booker', 3]"
      ]
     },
     "execution_count": 71,
     "metadata": {},
     "output_type": "execute_result"
    }
   ],
   "source": [
    "names = [\"Jaime\", \"Jayla\", \"Loudon\", \"Booker\"]\n",
    "print (names[1])\n",
    "print (names[1:3])\n",
    "\n",
    "names.append(3)\n",
    "names.insert(1, 2)\n",
    "names"
   ]
  },
  {
   "cell_type": "markdown",
   "id": "ca6d5104-9b44-466a-9752-e1f9314ac10a",
   "metadata": {},
   "source": [
    "# For-loops"
   ]
  },
  {
   "cell_type": "code",
   "execution_count": 35,
   "id": "0f8ba5e8-c330-455c-870b-4c4d418c4a9d",
   "metadata": {},
   "outputs": [
    {
     "name": "stdout",
     "output_type": "stream",
     "text": [
      "[528, 528, 156, 144]\n",
      "[167.20000000000002, 121.00000000000001, 195.8, 253.00000000000003, 147.4]\n"
     ]
    }
   ],
   "source": [
    "ages = [44,44,13,12]\n",
    "ages_in_month = []\n",
    "\n",
    "for item in ages:\n",
    "    ages_in_month.append(item * 12)\n",
    "print(ages_in_month)\n",
    "\n",
    "\n",
    "w_in_kg = [76,55,89,115,67]\n",
    "w_in_ibs = []\n",
    "for w in w_in_kg:\n",
    "    w_in_ibs.append(w*2.2)\n",
    "print(w_in_ibs)\n"
   ]
  },
  {
   "cell_type": "code",
   "execution_count": 27,
   "id": "b80d2ceb-324f-428a-a3a3-2b194c7e9f0c",
   "metadata": {},
   "outputs": [],
   "source": []
  },
  {
   "cell_type": "code",
   "execution_count": 34,
   "id": "1bdbafe8-af44-4f6c-84b6-199184aef852",
   "metadata": {},
   "outputs": [
    {
     "name": "stdout",
     "output_type": "stream",
     "text": [
      "[168, 121, 196, 254, 148]\n"
     ]
    }
   ],
   "source": [
    "# asking ChatGPT to make a list comperhnesion\n",
    "w_in_kg = [76, 55, 89, 115, 67]\n",
    "w_in_lbs = [round(w * 2.20462) for w in w_in_kg]\n",
    "\n",
    "print(w_in_lbs)\n"
   ]
  },
  {
   "cell_type": "code",
   "execution_count": 29,
   "id": "34640559-664e-48e5-adde-e59dd99a8a0e",
   "metadata": {},
   "outputs": [
    {
     "name": "stdout",
     "output_type": "stream",
     "text": [
      "[168, 121, 196, 254, 148]\n"
     ]
    }
   ],
   "source": [
    "w_in_kg = [76, 55, 89, 115, 67]\n",
    "w_in_lbs = [round(w * 2.20462) for w in w_in_kg]\n",
    "\n",
    "print(w_in_lbs)\n"
   ]
  },
  {
   "cell_type": "markdown",
   "id": "37481748-eee9-47a4-a018-41c3708e4d07",
   "metadata": {
    "tags": []
   },
   "source": [
    "# importing modules "
   ]
  },
  {
   "cell_type": "code",
   "execution_count": 48,
   "id": "629711d9-f359-461e-ac83-f36602b239ac",
   "metadata": {},
   "outputs": [],
   "source": [
    "import numpy"
   ]
  },
  {
   "cell_type": "code",
   "execution_count": 42,
   "id": "5d311d0b-3955-40c5-8dc0-e976eb4391c8",
   "metadata": {},
   "outputs": [
    {
     "data": {
      "text/plain": [
       "177.4"
      ]
     },
     "execution_count": 42,
     "metadata": {},
     "output_type": "execute_result"
    }
   ],
   "source": [
    "numpy.mean(w_in_lbs)"
   ]
  },
  {
   "cell_type": "code",
   "execution_count": 45,
   "id": "fb13eaca-0dbe-40f6-b611-fbdcb2093165",
   "metadata": {},
   "outputs": [],
   "source": [
    "ages = [21,33,24,21,67,43,23]\n",
    "ages_mean= numpy.mean(ages)"
   ]
  },
  {
   "cell_type": "code",
   "execution_count": 46,
   "id": "75543e21-f64b-478a-96ff-20b53cddcc5b",
   "metadata": {},
   "outputs": [
    {
     "data": {
      "text/plain": [
       "33.0"
      ]
     },
     "execution_count": 46,
     "metadata": {},
     "output_type": "execute_result"
    }
   ],
   "source": [
    "numpy.round(ages_mean)"
   ]
  },
  {
   "cell_type": "code",
   "execution_count": 51,
   "id": "8c6f88fe-f811-491e-b179-1ae0f21d6081",
   "metadata": {
    "collapsed": true,
    "jupyter": {
     "outputs_hidden": true
    },
    "tags": []
   },
   "outputs": [
    {
     "data": {
      "text/plain": [
       "['__builtins__',\n",
       " '__cached__',\n",
       " '__doc__',\n",
       " '__file__',\n",
       " '__loader__',\n",
       " '__name__',\n",
       " '__package__',\n",
       " '__path__',\n",
       " '__spec__',\n",
       " 'ax2prop',\n",
       " 'barscatter',\n",
       " 'bonferroni_corrected_ttest',\n",
       " 'burstlengthFig',\n",
       " 'burstprobFig',\n",
       " 'calculate_burst_prob',\n",
       " 'checknsessions',\n",
       " 'discrete2continuous',\n",
       " 'download_data',\n",
       " 'event2sample',\n",
       " 'fig_utils',\n",
       " 'find_overlap',\n",
       " 'findnoise',\n",
       " 'findpercentilevalue',\n",
       " 'fit_weibull',\n",
       " 'flatten_list',\n",
       " 'general_utils',\n",
       " 'get_violinstats',\n",
       " 'getuserhome',\n",
       " 'ibiFig',\n",
       " 'iliFig',\n",
       " 'invisible_axes',\n",
       " 'isnumeric',\n",
       " 'lickCalc',\n",
       " 'lick_figs',\n",
       " 'lick_utils',\n",
       " 'licklengthFig',\n",
       " 'lighten_color',\n",
       " 'logical_subset',\n",
       " 'makeheatmap',\n",
       " 'makerandomevents',\n",
       " 'mastersnipper',\n",
       " 'mean_and_sem',\n",
       " 'med_abs_dev',\n",
       " 'medfilereader',\n",
       " 'medfilereader_licks',\n",
       " 'merge_fed_files',\n",
       " 'merge_files',\n",
       " 'metafile_utils',\n",
       " 'metafilemaker',\n",
       " 'metafilereader',\n",
       " 'nanroc',\n",
       " 'parse_args',\n",
       " 'plot_ROC_and_line',\n",
       " 'processdata',\n",
       " 'random_array',\n",
       " 'remcheck',\n",
       " 'removenoise',\n",
       " 'removeshortbursts',\n",
       " 'resample_snips',\n",
       " 'rocN',\n",
       " 'roc_utils',\n",
       " 'rocshuf',\n",
       " 'run_roc_comparison',\n",
       " 'sessionlicksFig',\n",
       " 'setsameaxislimits',\n",
       " 'shadedError',\n",
       " 'sidakcorr',\n",
       " 'snipper',\n",
       " 'snipper_utils',\n",
       " 'stats_utils',\n",
       " 'time2samples',\n",
       " 'trialsFig',\n",
       " 'trialsMultFig',\n",
       " 'trialsMultShadedFig',\n",
       " 'trialsShadedFig',\n",
       " 'trials_figs',\n",
       " 'trialstiledFig',\n",
       " 'tstamp_to_tdate',\n",
       " 'weib_davis',\n",
       " 'zscore']"
      ]
     },
     "execution_count": 51,
     "metadata": {},
     "output_type": "execute_result"
    }
   ],
   "source": [
    "dir(trompy)"
   ]
  },
  {
   "cell_type": "code",
   "execution_count": 52,
   "id": "09b7fe47-b5ec-4bc8-8e67-4e36af9a81a5",
   "metadata": {},
   "outputs": [
    {
     "data": {
      "text/plain": [
       "(33.142857142857146, 5.933057068725869)"
      ]
     },
     "execution_count": 52,
     "metadata": {},
     "output_type": "execute_result"
    }
   ],
   "source": [
    "trompy.mean_and_sem(ages)"
   ]
  },
  {
   "cell_type": "code",
   "execution_count": null,
   "id": "26ccf42a-4c13-49cf-b822-ea7f12ecb25b",
   "metadata": {},
   "outputs": [],
   "source": []
  }
 ],
 "metadata": {
  "kernelspec": {
   "display_name": "Python 3 (ipykernel)",
   "language": "python",
   "name": "python3"
  },
  "language_info": {
   "codemirror_mode": {
    "name": "ipython",
    "version": 3
   },
   "file_extension": ".py",
   "mimetype": "text/x-python",
   "name": "python",
   "nbconvert_exporter": "python",
   "pygments_lexer": "ipython3",
   "version": "3.12.2"
  }
 },
 "nbformat": 4,
 "nbformat_minor": 5
}
